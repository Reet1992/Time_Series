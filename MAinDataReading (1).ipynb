{
 "cells": [
  {
   "cell_type": "code",
   "execution_count": 3,
   "id": "6581f38e-7082-4ab0-9072-6107a9577377",
   "metadata": {},
   "outputs": [],
   "source": [
    "### Import the Relevant packages\n",
    "\n",
    "import numpy as np\n",
    "import pandas as pd\n",
    "import matplotlib.pyplot as plt\n",
    "import seaborn as sns\n",
    "import scipy as scp\n",
    "import statsmodels as st\n",
    "import tensorflow as tf\n",
    "from raiutils.exceptions import UserConfigValidationException\n",
    "from raiwidgets import ResponsibleAIDashboard\n",
    "from responsibleai import RAIInsights"
   ]
  },
  {
   "cell_type": "code",
   "execution_count": 68,
   "id": "880c3ddb-4401-4c3d-a349-48ec7c52ac2f",
   "metadata": {},
   "outputs": [
    {
     "name": "stdout",
     "output_type": "stream",
     "text": [
      "        tag_number_masked  date_of_infraction  infraction_code  \\\n",
      "0                ***25289            20090101                4   \n",
      "1                ***70707            20090101              337   \n",
      "2                ***70814            20090101                9   \n",
      "3                ***70815            20090101                9   \n",
      "4                ***31104            20090101              337   \n",
      "...                   ...                 ...              ...   \n",
      "1048567          ***01943            20090511                3   \n",
      "1048568          ***31412            20090511                3   \n",
      "1048569          ***54439            20090511               29   \n",
      "1048570          ***79787            20090511                2   \n",
      "1048571          ***86739            20090511               29   \n",
      "\n",
      "                 infraction_description  set_fine_amount  time_of_infraction  \\\n",
      "0         PARK/LEAVE ON MUNICIPAL PRPTY               30                 1.0   \n",
      "1                   PARK - ON BOULEVARD               50                 5.0   \n",
      "2          STOP HWY PROHIBITED TIME/DAY               60                 5.0   \n",
      "3          STOP HWY PROHIBITED TIME/DAY               60                 5.0   \n",
      "4                   PARK - ON BOULEVARD               50                 5.0   \n",
      "...                                 ...              ...                 ...   \n",
      "1048567  PARK/LEAVE ON PRIVATE PROPERTY               30               419.0   \n",
      "1048568  PARK/LEAVE ON PRIVATE PROPERTY               30               419.0   \n",
      "1048569  PARK PROHIBITED TIME NO PERMIT               30               419.0   \n",
      "1048570        PARK LONGER THAN 3 HOURS               15               419.0   \n",
      "1048571  PARK PROHIBITED TIME NO PERMIT               30               419.0   \n",
      "\n",
      "        location1          location2 location3 location4 province  \n",
      "0             NaN   210 PRINCES BLVD       NaN       NaN       ON  \n",
      "1             OPP        2 MARKET ST       NaN       NaN       ON  \n",
      "2              NR  140 YORKVILLE AVE       NaN       NaN       ON  \n",
      "3              NR  140 YORKVILLE AVE       NaN       NaN       ON  \n",
      "4             OPP        2 MARKET ST       NaN       NaN       ON  \n",
      "...           ...                ...       ...       ...      ...  \n",
      "1048567       NaN      20 WAKUNDA PL       NaN       NaN       ON  \n",
      "1048568       NaN      33 GABIAN WAY       NaN       NaN       ON  \n",
      "1048569        NR     293 RHODES AVE       NaN       NaN       ON  \n",
      "1048570        NR     185 LINDEN AVE       NaN       NaN       ON  \n",
      "1048571        NR  351 MCROBERTS AVE       NaN       NaN       ON  \n",
      "\n",
      "[1048572 rows x 11 columns]\n",
      "File Loaded the operation Took 4.780550718307495 seconds\n"
     ]
    }
   ],
   "source": [
    "import pandas as pd\n",
    "import time\n",
    "\n",
    "start = time.time()\n",
    "data = pd.read_csv(r'C:\\Users\\Reet\\Downloads\\deep_learning\\Interview\\dataset\\Parking_Tags_data_2009.csv',chunksize = 1048573)\n",
    "\n",
    "for idx, chunk in enumerate(data):\n",
    "    if idx==0:\n",
    "        df = pd.DataFrame(chunk)\n",
    "        print(chunk)\n",
    "    else:\n",
    "        break\n",
    "\n",
    "df.to_csv(r'C:\\Users\\Reet\\Downloads\\deep_learning\\Interview\\dataset\\2009_new.csv',encoding = \"utf-8\",index = False)\n",
    "\n",
    "print(\"File Loaded the operation Took\",time.time()-start,\"seconds\")\n",
    "\n",
    "\n",
    "\n",
    "#print(\"data shape\",data.shape)"
   ]
  },
  {
   "cell_type": "code",
   "execution_count": 69,
   "id": "74a20ac3-efd8-4d54-b07e-1a50ce6fe68e",
   "metadata": {},
   "outputs": [
    {
     "name": "stdout",
     "output_type": "stream",
     "text": [
      "File Loaded the operation Took 11.864410400390625 seconds\n"
     ]
    }
   ],
   "source": [
    "newdata_9 = pd.read_csv(r'C:\\Users\\Reet\\Downloads\\deep_learning\\Interview\\dataset\\2009.csv')\n",
    "print(\"File Loaded the operation Took\",time.time()-start,\"seconds\")\n"
   ]
  },
  {
   "cell_type": "code",
   "execution_count": null,
   "id": "34a6e115-dbcf-441b-8670-3053f8ff2617",
   "metadata": {},
   "outputs": [],
   "source": []
  },
  {
   "cell_type": "code",
   "execution_count": null,
   "id": "9e12cb36-12b0-4fc9-938a-19ceed20abb5",
   "metadata": {},
   "outputs": [],
   "source": [
    "### REading file of 2010"
   ]
  },
  {
   "cell_type": "code",
   "execution_count": 67,
   "id": "1c26c44d-d318-4db9-a19c-6d20928f6d8e",
   "metadata": {},
   "outputs": [
    {
     "ename": "UnicodeDecodeError",
     "evalue": "'utf-8' codec can't decode byte 0xff in position 0: invalid start byte",
     "output_type": "error",
     "traceback": [
      "\u001b[1;31m---------------------------------------------------------------------------\u001b[0m",
      "\u001b[1;31mUnicodeDecodeError\u001b[0m                        Traceback (most recent call last)",
      "\u001b[1;32m~\\AppData\\Local\\Temp\\ipykernel_32512\\2603788797.py\u001b[0m in \u001b[0;36m<cell line: 2>\u001b[1;34m()\u001b[0m\n\u001b[0;32m      1\u001b[0m \u001b[0mstart\u001b[0m \u001b[1;33m=\u001b[0m \u001b[0mtime\u001b[0m\u001b[1;33m.\u001b[0m\u001b[0mtime\u001b[0m\u001b[1;33m(\u001b[0m\u001b[1;33m)\u001b[0m\u001b[1;33m\u001b[0m\u001b[1;33m\u001b[0m\u001b[0m\n\u001b[1;32m----> 2\u001b[1;33m \u001b[0mdata2\u001b[0m \u001b[1;33m=\u001b[0m \u001b[0mpd\u001b[0m\u001b[1;33m.\u001b[0m\u001b[0mread_csv\u001b[0m\u001b[1;33m(\u001b[0m\u001b[1;34mr'C:\\Users\\Reet\\Downloads\\deep_learning\\Interview\\dataset\\Parking_Tags_data_2010.csv'\u001b[0m\u001b[1;33m,\u001b[0m\u001b[0mchunksize\u001b[0m \u001b[1;33m=\u001b[0m \u001b[1;36m1048576\u001b[0m\u001b[1;33m)\u001b[0m\u001b[1;33m\u001b[0m\u001b[1;33m\u001b[0m\u001b[0m\n\u001b[0m\u001b[0;32m      3\u001b[0m \u001b[1;33m\u001b[0m\u001b[0m\n\u001b[0;32m      4\u001b[0m \u001b[1;32mfor\u001b[0m \u001b[0midx\u001b[0m\u001b[1;33m,\u001b[0m \u001b[0mchunk\u001b[0m \u001b[1;32min\u001b[0m \u001b[0menumerate\u001b[0m\u001b[1;33m(\u001b[0m\u001b[0mdata2\u001b[0m\u001b[1;33m)\u001b[0m\u001b[1;33m:\u001b[0m\u001b[1;33m\u001b[0m\u001b[1;33m\u001b[0m\u001b[0m\n\u001b[0;32m      5\u001b[0m     \u001b[1;32mif\u001b[0m \u001b[0midx\u001b[0m\u001b[1;33m==\u001b[0m\u001b[1;36m0\u001b[0m\u001b[1;33m:\u001b[0m\u001b[1;33m\u001b[0m\u001b[1;33m\u001b[0m\u001b[0m\n",
      "\u001b[1;32m~\\AppData\\Roaming\\Python\\Python39\\site-packages\\pandas\\util\\_decorators.py\u001b[0m in \u001b[0;36mwrapper\u001b[1;34m(*args, **kwargs)\u001b[0m\n\u001b[0;32m    209\u001b[0m                 \u001b[1;32melse\u001b[0m\u001b[1;33m:\u001b[0m\u001b[1;33m\u001b[0m\u001b[1;33m\u001b[0m\u001b[0m\n\u001b[0;32m    210\u001b[0m                     \u001b[0mkwargs\u001b[0m\u001b[1;33m[\u001b[0m\u001b[0mnew_arg_name\u001b[0m\u001b[1;33m]\u001b[0m \u001b[1;33m=\u001b[0m \u001b[0mnew_arg_value\u001b[0m\u001b[1;33m\u001b[0m\u001b[1;33m\u001b[0m\u001b[0m\n\u001b[1;32m--> 211\u001b[1;33m             \u001b[1;32mreturn\u001b[0m \u001b[0mfunc\u001b[0m\u001b[1;33m(\u001b[0m\u001b[1;33m*\u001b[0m\u001b[0margs\u001b[0m\u001b[1;33m,\u001b[0m \u001b[1;33m**\u001b[0m\u001b[0mkwargs\u001b[0m\u001b[1;33m)\u001b[0m\u001b[1;33m\u001b[0m\u001b[1;33m\u001b[0m\u001b[0m\n\u001b[0m\u001b[0;32m    212\u001b[0m \u001b[1;33m\u001b[0m\u001b[0m\n\u001b[0;32m    213\u001b[0m         \u001b[1;32mreturn\u001b[0m \u001b[0mcast\u001b[0m\u001b[1;33m(\u001b[0m\u001b[0mF\u001b[0m\u001b[1;33m,\u001b[0m \u001b[0mwrapper\u001b[0m\u001b[1;33m)\u001b[0m\u001b[1;33m\u001b[0m\u001b[1;33m\u001b[0m\u001b[0m\n",
      "\u001b[1;32m~\\AppData\\Roaming\\Python\\Python39\\site-packages\\pandas\\util\\_decorators.py\u001b[0m in \u001b[0;36mwrapper\u001b[1;34m(*args, **kwargs)\u001b[0m\n\u001b[0;32m    329\u001b[0m                     \u001b[0mstacklevel\u001b[0m\u001b[1;33m=\u001b[0m\u001b[0mfind_stack_level\u001b[0m\u001b[1;33m(\u001b[0m\u001b[1;33m)\u001b[0m\u001b[1;33m,\u001b[0m\u001b[1;33m\u001b[0m\u001b[1;33m\u001b[0m\u001b[0m\n\u001b[0;32m    330\u001b[0m                 )\n\u001b[1;32m--> 331\u001b[1;33m             \u001b[1;32mreturn\u001b[0m \u001b[0mfunc\u001b[0m\u001b[1;33m(\u001b[0m\u001b[1;33m*\u001b[0m\u001b[0margs\u001b[0m\u001b[1;33m,\u001b[0m \u001b[1;33m**\u001b[0m\u001b[0mkwargs\u001b[0m\u001b[1;33m)\u001b[0m\u001b[1;33m\u001b[0m\u001b[1;33m\u001b[0m\u001b[0m\n\u001b[0m\u001b[0;32m    332\u001b[0m \u001b[1;33m\u001b[0m\u001b[0m\n\u001b[0;32m    333\u001b[0m         \u001b[1;31m# error: \"Callable[[VarArg(Any), KwArg(Any)], Any]\" has no\u001b[0m\u001b[1;33m\u001b[0m\u001b[1;33m\u001b[0m\u001b[0m\n",
      "\u001b[1;32m~\\AppData\\Roaming\\Python\\Python39\\site-packages\\pandas\\io\\parsers\\readers.py\u001b[0m in \u001b[0;36mread_csv\u001b[1;34m(filepath_or_buffer, sep, delimiter, header, names, index_col, usecols, squeeze, prefix, mangle_dupe_cols, dtype, engine, converters, true_values, false_values, skipinitialspace, skiprows, skipfooter, nrows, na_values, keep_default_na, na_filter, verbose, skip_blank_lines, parse_dates, infer_datetime_format, keep_date_col, date_parser, dayfirst, cache_dates, iterator, chunksize, compression, thousands, decimal, lineterminator, quotechar, quoting, doublequote, escapechar, comment, encoding, encoding_errors, dialect, error_bad_lines, warn_bad_lines, on_bad_lines, delim_whitespace, low_memory, memory_map, float_precision, storage_options)\u001b[0m\n\u001b[0;32m    948\u001b[0m     \u001b[0mkwds\u001b[0m\u001b[1;33m.\u001b[0m\u001b[0mupdate\u001b[0m\u001b[1;33m(\u001b[0m\u001b[0mkwds_defaults\u001b[0m\u001b[1;33m)\u001b[0m\u001b[1;33m\u001b[0m\u001b[1;33m\u001b[0m\u001b[0m\n\u001b[0;32m    949\u001b[0m \u001b[1;33m\u001b[0m\u001b[0m\n\u001b[1;32m--> 950\u001b[1;33m     \u001b[1;32mreturn\u001b[0m \u001b[0m_read\u001b[0m\u001b[1;33m(\u001b[0m\u001b[0mfilepath_or_buffer\u001b[0m\u001b[1;33m,\u001b[0m \u001b[0mkwds\u001b[0m\u001b[1;33m)\u001b[0m\u001b[1;33m\u001b[0m\u001b[1;33m\u001b[0m\u001b[0m\n\u001b[0m\u001b[0;32m    951\u001b[0m \u001b[1;33m\u001b[0m\u001b[0m\n\u001b[0;32m    952\u001b[0m \u001b[1;33m\u001b[0m\u001b[0m\n",
      "\u001b[1;32m~\\AppData\\Roaming\\Python\\Python39\\site-packages\\pandas\\io\\parsers\\readers.py\u001b[0m in \u001b[0;36m_read\u001b[1;34m(filepath_or_buffer, kwds)\u001b[0m\n\u001b[0;32m    603\u001b[0m \u001b[1;33m\u001b[0m\u001b[0m\n\u001b[0;32m    604\u001b[0m     \u001b[1;31m# Create the parser.\u001b[0m\u001b[1;33m\u001b[0m\u001b[1;33m\u001b[0m\u001b[0m\n\u001b[1;32m--> 605\u001b[1;33m     \u001b[0mparser\u001b[0m \u001b[1;33m=\u001b[0m \u001b[0mTextFileReader\u001b[0m\u001b[1;33m(\u001b[0m\u001b[0mfilepath_or_buffer\u001b[0m\u001b[1;33m,\u001b[0m \u001b[1;33m**\u001b[0m\u001b[0mkwds\u001b[0m\u001b[1;33m)\u001b[0m\u001b[1;33m\u001b[0m\u001b[1;33m\u001b[0m\u001b[0m\n\u001b[0m\u001b[0;32m    606\u001b[0m \u001b[1;33m\u001b[0m\u001b[0m\n\u001b[0;32m    607\u001b[0m     \u001b[1;32mif\u001b[0m \u001b[0mchunksize\u001b[0m \u001b[1;32mor\u001b[0m \u001b[0miterator\u001b[0m\u001b[1;33m:\u001b[0m\u001b[1;33m\u001b[0m\u001b[1;33m\u001b[0m\u001b[0m\n",
      "\u001b[1;32m~\\AppData\\Roaming\\Python\\Python39\\site-packages\\pandas\\io\\parsers\\readers.py\u001b[0m in \u001b[0;36m__init__\u001b[1;34m(self, f, engine, **kwds)\u001b[0m\n\u001b[0;32m   1440\u001b[0m \u001b[1;33m\u001b[0m\u001b[0m\n\u001b[0;32m   1441\u001b[0m         \u001b[0mself\u001b[0m\u001b[1;33m.\u001b[0m\u001b[0mhandles\u001b[0m\u001b[1;33m:\u001b[0m \u001b[0mIOHandles\u001b[0m \u001b[1;33m|\u001b[0m \u001b[1;32mNone\u001b[0m \u001b[1;33m=\u001b[0m \u001b[1;32mNone\u001b[0m\u001b[1;33m\u001b[0m\u001b[1;33m\u001b[0m\u001b[0m\n\u001b[1;32m-> 1442\u001b[1;33m         \u001b[0mself\u001b[0m\u001b[1;33m.\u001b[0m\u001b[0m_engine\u001b[0m \u001b[1;33m=\u001b[0m \u001b[0mself\u001b[0m\u001b[1;33m.\u001b[0m\u001b[0m_make_engine\u001b[0m\u001b[1;33m(\u001b[0m\u001b[0mf\u001b[0m\u001b[1;33m,\u001b[0m \u001b[0mself\u001b[0m\u001b[1;33m.\u001b[0m\u001b[0mengine\u001b[0m\u001b[1;33m)\u001b[0m\u001b[1;33m\u001b[0m\u001b[1;33m\u001b[0m\u001b[0m\n\u001b[0m\u001b[0;32m   1443\u001b[0m \u001b[1;33m\u001b[0m\u001b[0m\n\u001b[0;32m   1444\u001b[0m     \u001b[1;32mdef\u001b[0m \u001b[0mclose\u001b[0m\u001b[1;33m(\u001b[0m\u001b[0mself\u001b[0m\u001b[1;33m)\u001b[0m \u001b[1;33m->\u001b[0m \u001b[1;32mNone\u001b[0m\u001b[1;33m:\u001b[0m\u001b[1;33m\u001b[0m\u001b[1;33m\u001b[0m\u001b[0m\n",
      "\u001b[1;32m~\\AppData\\Roaming\\Python\\Python39\\site-packages\\pandas\\io\\parsers\\readers.py\u001b[0m in \u001b[0;36m_make_engine\u001b[1;34m(self, f, engine)\u001b[0m\n\u001b[0;32m   1751\u001b[0m \u001b[1;33m\u001b[0m\u001b[0m\n\u001b[0;32m   1752\u001b[0m         \u001b[1;32mtry\u001b[0m\u001b[1;33m:\u001b[0m\u001b[1;33m\u001b[0m\u001b[1;33m\u001b[0m\u001b[0m\n\u001b[1;32m-> 1753\u001b[1;33m             \u001b[1;32mreturn\u001b[0m \u001b[0mmapping\u001b[0m\u001b[1;33m[\u001b[0m\u001b[0mengine\u001b[0m\u001b[1;33m]\u001b[0m\u001b[1;33m(\u001b[0m\u001b[0mf\u001b[0m\u001b[1;33m,\u001b[0m \u001b[1;33m**\u001b[0m\u001b[0mself\u001b[0m\u001b[1;33m.\u001b[0m\u001b[0moptions\u001b[0m\u001b[1;33m)\u001b[0m\u001b[1;33m\u001b[0m\u001b[1;33m\u001b[0m\u001b[0m\n\u001b[0m\u001b[0;32m   1754\u001b[0m         \u001b[1;32mexcept\u001b[0m \u001b[0mException\u001b[0m\u001b[1;33m:\u001b[0m\u001b[1;33m\u001b[0m\u001b[1;33m\u001b[0m\u001b[0m\n\u001b[0;32m   1755\u001b[0m             \u001b[1;32mif\u001b[0m \u001b[0mself\u001b[0m\u001b[1;33m.\u001b[0m\u001b[0mhandles\u001b[0m \u001b[1;32mis\u001b[0m \u001b[1;32mnot\u001b[0m \u001b[1;32mNone\u001b[0m\u001b[1;33m:\u001b[0m\u001b[1;33m\u001b[0m\u001b[1;33m\u001b[0m\u001b[0m\n",
      "\u001b[1;32m~\\AppData\\Roaming\\Python\\Python39\\site-packages\\pandas\\io\\parsers\\c_parser_wrapper.py\u001b[0m in \u001b[0;36m__init__\u001b[1;34m(self, src, **kwds)\u001b[0m\n\u001b[0;32m     77\u001b[0m \u001b[1;33m\u001b[0m\u001b[0m\n\u001b[0;32m     78\u001b[0m         \u001b[0mkwds\u001b[0m\u001b[1;33m[\u001b[0m\u001b[1;34m\"dtype\"\u001b[0m\u001b[1;33m]\u001b[0m \u001b[1;33m=\u001b[0m \u001b[0mensure_dtype_objs\u001b[0m\u001b[1;33m(\u001b[0m\u001b[0mkwds\u001b[0m\u001b[1;33m.\u001b[0m\u001b[0mget\u001b[0m\u001b[1;33m(\u001b[0m\u001b[1;34m\"dtype\"\u001b[0m\u001b[1;33m,\u001b[0m \u001b[1;32mNone\u001b[0m\u001b[1;33m)\u001b[0m\u001b[1;33m)\u001b[0m\u001b[1;33m\u001b[0m\u001b[1;33m\u001b[0m\u001b[0m\n\u001b[1;32m---> 79\u001b[1;33m         \u001b[0mself\u001b[0m\u001b[1;33m.\u001b[0m\u001b[0m_reader\u001b[0m \u001b[1;33m=\u001b[0m \u001b[0mparsers\u001b[0m\u001b[1;33m.\u001b[0m\u001b[0mTextReader\u001b[0m\u001b[1;33m(\u001b[0m\u001b[0msrc\u001b[0m\u001b[1;33m,\u001b[0m \u001b[1;33m**\u001b[0m\u001b[0mkwds\u001b[0m\u001b[1;33m)\u001b[0m\u001b[1;33m\u001b[0m\u001b[1;33m\u001b[0m\u001b[0m\n\u001b[0m\u001b[0;32m     80\u001b[0m \u001b[1;33m\u001b[0m\u001b[0m\n\u001b[0;32m     81\u001b[0m         \u001b[0mself\u001b[0m\u001b[1;33m.\u001b[0m\u001b[0munnamed_cols\u001b[0m \u001b[1;33m=\u001b[0m \u001b[0mself\u001b[0m\u001b[1;33m.\u001b[0m\u001b[0m_reader\u001b[0m\u001b[1;33m.\u001b[0m\u001b[0munnamed_cols\u001b[0m\u001b[1;33m\u001b[0m\u001b[1;33m\u001b[0m\u001b[0m\n",
      "\u001b[1;32m~\\AppData\\Roaming\\Python\\Python39\\site-packages\\pandas\\_libs\\parsers.pyx\u001b[0m in \u001b[0;36mpandas._libs.parsers.TextReader.__cinit__\u001b[1;34m()\u001b[0m\n",
      "\u001b[1;32m~\\AppData\\Roaming\\Python\\Python39\\site-packages\\pandas\\_libs\\parsers.pyx\u001b[0m in \u001b[0;36mpandas._libs.parsers.TextReader._get_header\u001b[1;34m()\u001b[0m\n",
      "\u001b[1;32m~\\AppData\\Roaming\\Python\\Python39\\site-packages\\pandas\\_libs\\parsers.pyx\u001b[0m in \u001b[0;36mpandas._libs.parsers.TextReader._tokenize_rows\u001b[1;34m()\u001b[0m\n",
      "\u001b[1;32m~\\AppData\\Roaming\\Python\\Python39\\site-packages\\pandas\\_libs\\parsers.pyx\u001b[0m in \u001b[0;36mpandas._libs.parsers.raise_parser_error\u001b[1;34m()\u001b[0m\n",
      "\u001b[1;31mUnicodeDecodeError\u001b[0m: 'utf-8' codec can't decode byte 0xff in position 0: invalid start byte"
     ]
    }
   ],
   "source": [
    "# start = time.time()\n",
    "# data2 = pd.read_csv(r'C:\\Users\\Reet\\Downloads\\deep_learning\\Interview\\dataset\\Parking_Tags_data_2010.csv',chunksize = 1048576)\n",
    "\n",
    "# for idx, chunk in enumerate(data2):\n",
    "#     if idx==0:\n",
    "#         df2 = pd.DataFrame(chunk)\n",
    "#         print(chunk)\n",
    "#     else:\n",
    "#         break\n",
    "\n",
    "# df2.to_csv(r'C:\\Users\\Reet\\Downloads\\deep_learning\\Interview\\dataset\\2010.csv',index = False)\n",
    "\n",
    "# print(\"File Loaded the operation Took\",time.time()-start,\"seconds\")"
   ]
  },
  {
   "cell_type": "code",
   "execution_count": null,
   "id": "380b69f8-16e4-41b8-b617-f04755709911",
   "metadata": {},
   "outputs": [],
   "source": [
    "#### Reading File for 2011"
   ]
  },
  {
   "cell_type": "code",
   "execution_count": 71,
   "id": "d32cdb34-d7a0-49f2-aaca-55d2260c2a68",
   "metadata": {},
   "outputs": [
    {
     "name": "stdout",
     "output_type": "stream",
     "text": [
      "        tag_number_masked  date_of_infraction  infraction_code  \\\n",
      "0                ***77243            20110101                8   \n",
      "1                ***77244            20110101                8   \n",
      "2                ***99464            20110101               29   \n",
      "3                ***77245            20110101               15   \n",
      "4                ***99465            20110101               29   \n",
      "...                   ...                 ...              ...   \n",
      "1048571          ***63191            20110519               29   \n",
      "1048572          ***72297            20110519                2   \n",
      "1048573          ***86208            20110519               49   \n",
      "1048574          ***25785            20110519                2   \n",
      "1048575          ***41751            20110519               29   \n",
      "\n",
      "                 infraction_description  set_fine_amount  time_of_infraction  \\\n",
      "0          STAND VEH HWY PRO TIMES/DAYS               60                 0.0   \n",
      "1          STAND VEH HWY PRO TIMES/DAYS               60                 0.0   \n",
      "2        PARK PROHIBITED TIME NO PERMIT               30                 0.0   \n",
      "3              PARK 3 M OF FIRE HYDRANT              100                 1.0   \n",
      "4        PARK PROHIBITED TIME NO PERMIT               30                 1.0   \n",
      "...                                 ...              ...                 ...   \n",
      "1048571  PARK PROHIBITED TIME NO PERMIT               30               338.0   \n",
      "1048572        PARK LONGER THAN 3 HOURS               15               338.0   \n",
      "1048573  FAIL TO PARK/STOP PARA RTHD HW               15               338.0   \n",
      "1048574               PARK OVER 3 HOURS               15               338.0   \n",
      "1048575  PARK PROHIBITED TIME NO PERMIT               30               338.0   \n",
      "\n",
      "        location1              location2 location3 location4 province  \n",
      "0              NR  60 BRIAN HARRISON WAY       NaN       NaN       ON  \n",
      "1              NR  60 BRIAN HARRISON WAY       NaN       NaN       ON  \n",
      "2             OPP        241 TORRENS AVE       NaN       NaN       ON  \n",
      "3              NR  60 BRIAN HARRISON WAY       NaN       NaN       ON  \n",
      "4             OPP        245 TORRENS AVE       NaN       NaN       ON  \n",
      "...           ...                    ...       ...       ...      ...  \n",
      "1048571        NR         765 EUCLID AVE       NaN       NaN       ON  \n",
      "1048572       OPP          62 TOPBANK DR       NaN       NaN       ON  \n",
      "1048573        NR        197 PACIFIC AVE       NaN       NaN       ON  \n",
      "1048574        NR           20 TRENT AVE       NaN       NaN       ON  \n",
      "1048575        NR            41 MAJOR ST       NaN       NaN       ON  \n",
      "\n",
      "[1048576 rows x 11 columns]\n",
      "File Loaded the operation Took 6.957272529602051 seconds\n"
     ]
    }
   ],
   "source": [
    "start = time.time()\n",
    "data2 = pd.read_csv(r'C:\\Users\\Reet\\Downloads\\deep_learning\\Interview\\dataset\\Parking_Tags_data_2011.csv',chunksize = 1048576)\n",
    "\n",
    "for idx, chunk in enumerate(data2):\n",
    "    if idx==0:\n",
    "        df2 = pd.DataFrame(chunk)\n",
    "        print(chunk)\n",
    "    else:\n",
    "        break\n",
    "\n",
    "df2.to_csv(r'C:\\Users\\Reet\\Downloads\\deep_learning\\Interview\\dataset\\2011.csv',index = False)\n",
    "\n",
    "print(\"File Loaded the operation Took\",time.time()-start,\"seconds\")"
   ]
  },
  {
   "cell_type": "code",
   "execution_count": 72,
   "id": "1b47e6c1-bb48-48cd-9022-88a00d2f2212",
   "metadata": {},
   "outputs": [
    {
     "name": "stdout",
     "output_type": "stream",
     "text": [
      "File Loaded the operation Took 74.14030957221985 seconds\n"
     ]
    }
   ],
   "source": [
    "newdata_11 = pd.read_csv(r'C:\\Users\\Reet\\Downloads\\deep_learning\\Interview\\dataset\\2011.csv')\n",
    "print(\"File Loaded the operation Took\",time.time()-start,\"seconds\")"
   ]
  },
  {
   "cell_type": "code",
   "execution_count": null,
   "id": "6354d227-25ee-4a14-80e1-2399f74ef0f3",
   "metadata": {},
   "outputs": [],
   "source": [
    "### Reading File for 2012"
   ]
  },
  {
   "cell_type": "code",
   "execution_count": 73,
   "id": "31f5e687-45b3-4f8d-9807-4ec8a39647aa",
   "metadata": {},
   "outputs": [
    {
     "name": "stdout",
     "output_type": "stream",
     "text": [
      "        tag_number_masked  date_of_infraction  infraction_code  \\\n",
      "0                ***78746            20120101              192   \n",
      "1                ***31670            20120101                5   \n",
      "2                ***47870            20120101                5   \n",
      "3                ***68489            20120101                8   \n",
      "4                ***98802            20120101              337   \n",
      "...                   ...                 ...              ...   \n",
      "1048571          ***76693            20120514                5   \n",
      "1048572          ***97596            20120514                5   \n",
      "1048573          ***17467            20120514              210   \n",
      "1048574          ***24549            20120514              210   \n",
      "1048575          ***41761            20120514              210   \n",
      "\n",
      "               infraction_description  set_fine_amount  time_of_infraction  \\\n",
      "0           STAND SIGNED TRANSIT STOP               60                 0.0   \n",
      "1          PARK HWY PROHIBED TIME/DAY               40                 1.0   \n",
      "2          PARK HWY PROHIBED TIME/DAY               40                 1.0   \n",
      "3         STD VEH HWY PROHIB TIME/DAY               60                 1.0   \n",
      "4                 PARK - ON BOULEVARD               50                 1.0   \n",
      "...                               ...              ...                 ...   \n",
      "1048571    PARK HWY PROHIBED TIME/DAY               40              1424.0   \n",
      "1048572    PARK HWY PROHIBED TIME/DAY               40              1424.0   \n",
      "1048573  PARK FAIL TO DISPLAY RECEIPT               30              1424.0   \n",
      "1048574  PARK FAIL TO DISPLAY RECEIPT               30              1424.0   \n",
      "1048575  PARK FAIL TO DISPLAY RECEIPT               30              1424.0   \n",
      "\n",
      "        location1         location2 location3     location4 province  \n",
      "0              NR   355 PARKSIDE DR       NaN           NaN       ON  \n",
      "1              NR     220 KING ST W       NaN           NaN       ON  \n",
      "2             N/S            ELM ST       W/O  ELIZABETH ST       ON  \n",
      "3             N/S         WALTON ST       E/O        BAY ST       ON  \n",
      "4             S/S    SHEPPARD AVE E       E/O   NEILSON AVE       ON  \n",
      "...           ...               ...       ...           ...      ...  \n",
      "1048571       OPP    74 VICTORIA ST       NaN           NaN       ON  \n",
      "1048572       OPP   58 KEEWATIN AVE       NaN           NaN       ON  \n",
      "1048573        NR     33 LOMBARD ST       NaN           NaN       QC  \n",
      "1048574        NR  1493 BAYVIEW AVE       NaN           NaN       ON  \n",
      "1048575        NR     3220 YONGE ST       NaN           NaN       ON  \n",
      "\n",
      "[1048576 rows x 11 columns]\n",
      "File Loaded the operation Took 9.07700800895691 seconds\n"
     ]
    }
   ],
   "source": [
    "start = time.time()\n",
    "data2 = pd.read_csv(r'C:\\Users\\Reet\\Downloads\\deep_learning\\Interview\\dataset\\Parking_Tags_data_2012.csv',chunksize = 1048576)\n",
    "\n",
    "for idx, chunk in enumerate(data2):\n",
    "    if idx==0:\n",
    "        df2 = pd.DataFrame(chunk)\n",
    "        print(chunk)\n",
    "    else:\n",
    "        break\n",
    "\n",
    "df2.to_csv(r'C:\\Users\\Reet\\Downloads\\deep_learning\\Interview\\dataset\\2012.csv',index = False)\n",
    "\n",
    "print(\"File Loaded the operation Took\",time.time()-start,\"seconds\")"
   ]
  },
  {
   "cell_type": "code",
   "execution_count": 74,
   "id": "04a3f177-3fd0-4a0e-b2a6-763c12ba5831",
   "metadata": {},
   "outputs": [
    {
     "name": "stdout",
     "output_type": "stream",
     "text": [
      "File Loaded the operation Took 41.44430112838745 seconds\n"
     ]
    }
   ],
   "source": [
    "newdata_12 = pd.read_csv(r'C:\\Users\\Reet\\Downloads\\deep_learning\\Interview\\dataset\\2012.csv')\n",
    "print(\"File Loaded the operation Took\",time.time()-start,\"seconds\")"
   ]
  },
  {
   "cell_type": "code",
   "execution_count": 76,
   "id": "71f7a704-dcca-4b1f-bae5-828153b125c9",
   "metadata": {},
   "outputs": [
    {
     "name": "stdout",
     "output_type": "stream",
     "text": [
      "        tag_number_masked  date_of_infraction  infraction_code  \\\n",
      "0                ***66151            20130101                3   \n",
      "1                ***41457            20130101                9   \n",
      "2                ***41458            20130101                9   \n",
      "3                ***85394            20130101              192   \n",
      "4                ***57816            20130101                8   \n",
      "...                   ...                 ...              ...   \n",
      "1048571          ***87937            20130529                2   \n",
      "1048572          ***87938            20130529                2   \n",
      "1048573          ***03081            20130529               29   \n",
      "1048574          ***56171            20130529                2   \n",
      "1048575          ***41002            20130529                2   \n",
      "\n",
      "                 infraction_description  set_fine_amount  time_of_infraction  \\\n",
      "0        PARK/LEAVE ON PRIVATE PROPERTY               30                 0.0   \n",
      "1        STOP-HWY-PROHIBITED TIMES/DAYS               60                 1.0   \n",
      "2        STOP-HWY-PROHIBITED TIMES/DAYS               60                 2.0   \n",
      "3             STAND SIGNED TRANSIT STOP               60                 3.0   \n",
      "4           STD VEH HWY PROHIB TIME/DAY               60                 4.0   \n",
      "...                                 ...              ...                 ...   \n",
      "1048571        PARK LONGER THAN 3 HOURS               15               335.0   \n",
      "1048572        PARK LONGER THAN 3 HOURS               15               336.0   \n",
      "1048573  PARK PROHIBITED TIME NO PERMIT               30               336.0   \n",
      "1048574        PARK LONGER THAN 3 HOURS               15               337.0   \n",
      "1048575        PARK LONGER THAN 3 HOURS               15               337.0   \n",
      "\n",
      "        location1            location2 location3 location4 province  \n",
      "0              AT    1360 DANFORTH AVE       NaN       NaN       ON  \n",
      "1              NR  1709 ST CLAIR AVE W       NaN       NaN       ON  \n",
      "2              NR  1687 ST CLAIR AVE W       NaN       NaN       ON  \n",
      "3              NR        5140 YONGE ST       NaN       NaN       ON  \n",
      "4             OPP      227 VICTORIA ST       NaN       NaN       ON  \n",
      "...           ...                  ...       ...       ...      ...  \n",
      "1048571        NR     12 DEVERELL CRES       NaN       NaN       ON  \n",
      "1048572        NR     52 DEVERELL CRES       NaN       NaN       ON  \n",
      "1048573        NR     448 RUNNYMEDE RD       NaN       NaN       ON  \n",
      "1048574        NR       19 ELMARTIN DR       NaN       NaN       ON  \n",
      "1048575        NR         98 CULTRA SQ       NaN       NaN       ON  \n",
      "\n",
      "[1048576 rows x 11 columns]\n",
      "File Loaded the operation Took 6.864709854125977 seconds\n"
     ]
    }
   ],
   "source": [
    "### REading File for 2013\n",
    "\n",
    "start = time.time()\n",
    "data2 = pd.read_csv(r'C:\\Users\\Reet\\Downloads\\deep_learning\\Interview\\dataset\\Parking_Tags_data_2013.csv',chunksize = 1048576)\n",
    "\n",
    "for idx, chunk in enumerate(data2):\n",
    "    if idx==0:\n",
    "        df2 = pd.DataFrame(chunk)\n",
    "        print(chunk)\n",
    "    else:\n",
    "        break\n",
    "\n",
    "df2.to_csv(r'C:\\Users\\Reet\\Downloads\\deep_learning\\Interview\\dataset\\2013.csv',index = False)\n",
    "\n",
    "print(\"File Loaded the operation Took\",time.time()-start,\"seconds\")"
   ]
  },
  {
   "cell_type": "code",
   "execution_count": 77,
   "id": "487a49dc-8fd7-4950-9255-fe69b1354d8c",
   "metadata": {},
   "outputs": [
    {
     "name": "stdout",
     "output_type": "stream",
     "text": [
      "File Loaded the operation Took 72.07811760902405 seconds\n"
     ]
    }
   ],
   "source": [
    "newdata_13 = pd.read_csv(r'C:\\Users\\Reet\\Downloads\\deep_learning\\Interview\\dataset\\2013.csv')\n",
    "print(\"File Loaded the operation Took\",time.time()-start,\"seconds\")"
   ]
  },
  {
   "cell_type": "code",
   "execution_count": 79,
   "id": "1824a7be-0a61-4c21-8c9b-38451f264e4e",
   "metadata": {},
   "outputs": [
    {
     "name": "stdout",
     "output_type": "stream",
     "text": [
      "File Loaded the operation Took 12.69071340560913 seconds\n"
     ]
    }
   ],
   "source": [
    "### 2014\n",
    "\n",
    "\n",
    "### REading File for 2014\n",
    "\n",
    "start = time.time()\n",
    "data2_14_1 = pd.read_csv(r'C:\\Users\\Reet\\Downloads\\deep_learning\\Interview\\dataset\\2014\\parking-tickets-2014\\Parking_Tags_data_2014_1.csv')\n",
    "#data2_14_1.to_csv(r'C:\\Users\\Reet\\Downloads\\deep_learning\\Interview\\dataset\\2014\\parking-tickets-2014\\updated\\2014_1.csv',index = False)\n",
    "\n",
    "data2_14_2 = pd.read_csv(r'C:\\Users\\Reet\\Downloads\\deep_learning\\Interview\\dataset\\2014\\parking-tickets-2014\\Parking_Tags_data_2014_2.csv')\n",
    "#data2_14_2.to_csv(r'C:\\Users\\Reet\\Downloads\\deep_learning\\Interview\\dataset\\2014\\parking-tickets-2014\\updated\\2014_2.csv',index = False) \n",
    "\n",
    "data2_14_3 = pd.read_csv(r'C:\\Users\\Reet\\Downloads\\deep_learning\\Interview\\dataset\\2014\\parking-tickets-2014\\Parking_Tags_data_2014_3.csv')\n",
    "#data2_14_3.to_csv(r'C:\\Users\\Reet\\Downloads\\deep_learning\\Interview\\dataset\\2014\\parking-tickets-2014\\updated\\2014_3.csv',index = False) \n",
    "\n",
    "\n",
    "data2_14_4 = pd.read_csv(r'C:\\Users\\Reet\\Downloads\\deep_learning\\Interview\\dataset\\2014\\parking-tickets-2014\\Parking_Tags_data_2014_4.csv')\n",
    "#data2_14_4.to_csv(r'C:\\Users\\Reet\\Downloads\\deep_learning\\Interview\\dataset\\2014\\parking-tickets-2014\\updated\\2014_4.csv',index = False) \n",
    "\n",
    "\n",
    "df4 = pd.concat([data2_14_1,data2_14_2,data2_14_3,data2_14_4], axis=0).sort_values(by=['date_of_infraction']).reset_index(drop=True)\n",
    "df4.to_csv(r'C:\\Users\\Reet\\Downloads\\deep_learning\\Interview\\dataset\\2014\\parking-tickets-2014\\updated\\2014.csv',index = False) \n",
    "\n",
    "\n",
    "print(\"File Loaded the operation Took\",time.time()-start,\"seconds\")"
   ]
  },
  {
   "cell_type": "code",
   "execution_count": 80,
   "id": "fcfed185-98a5-4356-9c6a-5b14e34ddbd5",
   "metadata": {},
   "outputs": [
    {
     "name": "stdout",
     "output_type": "stream",
     "text": [
      "File Loaded the operation Took 80.48712134361267 seconds\n"
     ]
    }
   ],
   "source": [
    "newdata_14 = pd.read_csv(r'C:\\Users\\Reet\\Downloads\\deep_learning\\Interview\\dataset\\2014\\parking-tickets-2014\\updated\\2014.csv')\n",
    "print(\"File Loaded the operation Took\",time.time()-start,\"seconds\")"
   ]
  },
  {
   "cell_type": "code",
   "execution_count": 81,
   "id": "37895a78-63f6-4ac4-8aa4-47a47418c40b",
   "metadata": {},
   "outputs": [
    {
     "data": {
      "text/html": [
       "<div>\n",
       "<style scoped>\n",
       "    .dataframe tbody tr th:only-of-type {\n",
       "        vertical-align: middle;\n",
       "    }\n",
       "\n",
       "    .dataframe tbody tr th {\n",
       "        vertical-align: top;\n",
       "    }\n",
       "\n",
       "    .dataframe thead th {\n",
       "        text-align: right;\n",
       "    }\n",
       "</style>\n",
       "<table border=\"1\" class=\"dataframe\">\n",
       "  <thead>\n",
       "    <tr style=\"text-align: right;\">\n",
       "      <th></th>\n",
       "      <th>tag_number_masked</th>\n",
       "      <th>date_of_infraction</th>\n",
       "      <th>infraction_code</th>\n",
       "      <th>infraction_description</th>\n",
       "      <th>set_fine_amount</th>\n",
       "      <th>time_of_infraction</th>\n",
       "      <th>location1</th>\n",
       "      <th>location2</th>\n",
       "      <th>location3</th>\n",
       "      <th>location4</th>\n",
       "      <th>province</th>\n",
       "    </tr>\n",
       "  </thead>\n",
       "  <tbody>\n",
       "    <tr>\n",
       "      <th>0</th>\n",
       "      <td>***68436</td>\n",
       "      <td>20140101</td>\n",
       "      <td>134</td>\n",
       "      <td>PARK IN PUBLIC LANE</td>\n",
       "      <td>30</td>\n",
       "      <td>0.0</td>\n",
       "      <td>R/O</td>\n",
       "      <td>157 SELLERS AVE</td>\n",
       "      <td>NaN</td>\n",
       "      <td>NaN</td>\n",
       "      <td>ON</td>\n",
       "    </tr>\n",
       "    <tr>\n",
       "      <th>1</th>\n",
       "      <td>***75550</td>\n",
       "      <td>20140101</td>\n",
       "      <td>5</td>\n",
       "      <td>PARK-HWY DRNG PROH TIMES/DAYS</td>\n",
       "      <td>40</td>\n",
       "      <td>1736.0</td>\n",
       "      <td>OPP</td>\n",
       "      <td>39 BEAVER AVE</td>\n",
       "      <td>NaN</td>\n",
       "      <td>NaN</td>\n",
       "      <td>ON</td>\n",
       "    </tr>\n",
       "    <tr>\n",
       "      <th>2</th>\n",
       "      <td>***32978</td>\n",
       "      <td>20140101</td>\n",
       "      <td>30</td>\n",
       "      <td>STOP ON/OVER SIDEWALK/PATH</td>\n",
       "      <td>60</td>\n",
       "      <td>1733.0</td>\n",
       "      <td>NR</td>\n",
       "      <td>233 FAYWOOD BLVD</td>\n",
       "      <td>NaN</td>\n",
       "      <td>NaN</td>\n",
       "      <td>ON</td>\n",
       "    </tr>\n",
       "    <tr>\n",
       "      <th>3</th>\n",
       "      <td>***62660</td>\n",
       "      <td>20140101</td>\n",
       "      <td>3</td>\n",
       "      <td>PARK/LEAVE ON PRIVATE PROPERTY</td>\n",
       "      <td>30</td>\n",
       "      <td>1730.0</td>\n",
       "      <td>NaN</td>\n",
       "      <td>125 VILLAGE GREEN SQ</td>\n",
       "      <td>NaN</td>\n",
       "      <td>NaN</td>\n",
       "      <td>ON</td>\n",
       "    </tr>\n",
       "    <tr>\n",
       "      <th>4</th>\n",
       "      <td>***68020</td>\n",
       "      <td>20140101</td>\n",
       "      <td>30</td>\n",
       "      <td>STOP ON/OVER SIDEWALK/PATH</td>\n",
       "      <td>60</td>\n",
       "      <td>1726.0</td>\n",
       "      <td>NR</td>\n",
       "      <td>34 GODDARD AVE</td>\n",
       "      <td>NaN</td>\n",
       "      <td>NaN</td>\n",
       "      <td>ON</td>\n",
       "    </tr>\n",
       "    <tr>\n",
       "      <th>...</th>\n",
       "      <td>...</td>\n",
       "      <td>...</td>\n",
       "      <td>...</td>\n",
       "      <td>...</td>\n",
       "      <td>...</td>\n",
       "      <td>...</td>\n",
       "      <td>...</td>\n",
       "      <td>...</td>\n",
       "      <td>...</td>\n",
       "      <td>...</td>\n",
       "      <td>...</td>\n",
       "    </tr>\n",
       "    <tr>\n",
       "      <th>2484978</th>\n",
       "      <td>***97470</td>\n",
       "      <td>20141231</td>\n",
       "      <td>5</td>\n",
       "      <td>PARK-SIGNED HWY-PROHIBIT DY/TM</td>\n",
       "      <td>40</td>\n",
       "      <td>810.0</td>\n",
       "      <td>NR</td>\n",
       "      <td>129 EASTBOURNE AVE</td>\n",
       "      <td>NaN</td>\n",
       "      <td>NaN</td>\n",
       "      <td>ON</td>\n",
       "    </tr>\n",
       "    <tr>\n",
       "      <th>2484979</th>\n",
       "      <td>***99228</td>\n",
       "      <td>20141231</td>\n",
       "      <td>403</td>\n",
       "      <td>STOP-SIGNED HIGHWAY-RUSH HOUR</td>\n",
       "      <td>150</td>\n",
       "      <td>810.0</td>\n",
       "      <td>NR</td>\n",
       "      <td>508 PARLIAMENT ST</td>\n",
       "      <td>NaN</td>\n",
       "      <td>NaN</td>\n",
       "      <td>ON</td>\n",
       "    </tr>\n",
       "    <tr>\n",
       "      <th>2484980</th>\n",
       "      <td>***54603</td>\n",
       "      <td>20141231</td>\n",
       "      <td>210</td>\n",
       "      <td>PARK FAIL TO DISPLAY RECEIPT</td>\n",
       "      <td>30</td>\n",
       "      <td>809.0</td>\n",
       "      <td>NR</td>\n",
       "      <td>101 SPADINA RD</td>\n",
       "      <td>NaN</td>\n",
       "      <td>NaN</td>\n",
       "      <td>ON</td>\n",
       "    </tr>\n",
       "    <tr>\n",
       "      <th>2484981</th>\n",
       "      <td>***04980</td>\n",
       "      <td>20141231</td>\n",
       "      <td>8</td>\n",
       "      <td>STAND VEH.-PROHIBIT TIME/DAY</td>\n",
       "      <td>60</td>\n",
       "      <td>803.0</td>\n",
       "      <td>NR</td>\n",
       "      <td>252 LOGAN AVE</td>\n",
       "      <td>NaN</td>\n",
       "      <td>NaN</td>\n",
       "      <td>ON</td>\n",
       "    </tr>\n",
       "    <tr>\n",
       "      <th>2484982</th>\n",
       "      <td>***87324</td>\n",
       "      <td>20141231</td>\n",
       "      <td>9</td>\n",
       "      <td>STOP-SIGNED HWY-PROHIBIT TM/DY</td>\n",
       "      <td>60</td>\n",
       "      <td>2359.0</td>\n",
       "      <td>N/S</td>\n",
       "      <td>ARMOURY ST</td>\n",
       "      <td>E/O</td>\n",
       "      <td>CENTRE AVE</td>\n",
       "      <td>ON</td>\n",
       "    </tr>\n",
       "  </tbody>\n",
       "</table>\n",
       "<p>2484983 rows × 11 columns</p>\n",
       "</div>"
      ],
      "text/plain": [
       "        tag_number_masked  date_of_infraction  infraction_code  \\\n",
       "0                ***68436            20140101              134   \n",
       "1                ***75550            20140101                5   \n",
       "2                ***32978            20140101               30   \n",
       "3                ***62660            20140101                3   \n",
       "4                ***68020            20140101               30   \n",
       "...                   ...                 ...              ...   \n",
       "2484978          ***97470            20141231                5   \n",
       "2484979          ***99228            20141231              403   \n",
       "2484980          ***54603            20141231              210   \n",
       "2484981          ***04980            20141231                8   \n",
       "2484982          ***87324            20141231                9   \n",
       "\n",
       "                 infraction_description  set_fine_amount  time_of_infraction  \\\n",
       "0                   PARK IN PUBLIC LANE               30                 0.0   \n",
       "1         PARK-HWY DRNG PROH TIMES/DAYS               40              1736.0   \n",
       "2            STOP ON/OVER SIDEWALK/PATH               60              1733.0   \n",
       "3        PARK/LEAVE ON PRIVATE PROPERTY               30              1730.0   \n",
       "4            STOP ON/OVER SIDEWALK/PATH               60              1726.0   \n",
       "...                                 ...              ...                 ...   \n",
       "2484978  PARK-SIGNED HWY-PROHIBIT DY/TM               40               810.0   \n",
       "2484979   STOP-SIGNED HIGHWAY-RUSH HOUR              150               810.0   \n",
       "2484980    PARK FAIL TO DISPLAY RECEIPT               30               809.0   \n",
       "2484981    STAND VEH.-PROHIBIT TIME/DAY               60               803.0   \n",
       "2484982  STOP-SIGNED HWY-PROHIBIT TM/DY               60              2359.0   \n",
       "\n",
       "        location1             location2 location3   location4 province  \n",
       "0             R/O       157 SELLERS AVE       NaN         NaN       ON  \n",
       "1             OPP         39 BEAVER AVE       NaN         NaN       ON  \n",
       "2              NR      233 FAYWOOD BLVD       NaN         NaN       ON  \n",
       "3             NaN  125 VILLAGE GREEN SQ       NaN         NaN       ON  \n",
       "4              NR        34 GODDARD AVE       NaN         NaN       ON  \n",
       "...           ...                   ...       ...         ...      ...  \n",
       "2484978        NR    129 EASTBOURNE AVE       NaN         NaN       ON  \n",
       "2484979        NR     508 PARLIAMENT ST       NaN         NaN       ON  \n",
       "2484980        NR        101 SPADINA RD       NaN         NaN       ON  \n",
       "2484981        NR         252 LOGAN AVE       NaN         NaN       ON  \n",
       "2484982       N/S            ARMOURY ST       E/O  CENTRE AVE       ON  \n",
       "\n",
       "[2484983 rows x 11 columns]"
      ]
     },
     "execution_count": 81,
     "metadata": {},
     "output_type": "execute_result"
    }
   ],
   "source": [
    "newdata_14"
   ]
  },
  {
   "cell_type": "code",
   "execution_count": 83,
   "id": "698044dc-8b44-4c15-80f0-1748d3ea5f39",
   "metadata": {},
   "outputs": [
    {
     "name": "stdout",
     "output_type": "stream",
     "text": [
      "File Loaded the operation Took 10.951002597808838 seconds\n"
     ]
    }
   ],
   "source": [
    "## reading File\n",
    "\n",
    "\n",
    "start = time.time()\n",
    "data2_15_1 = pd.read_csv(r'C:\\Users\\Reet\\Downloads\\deep_learning\\Interview\\dataset\\2015\\Parking_Tags_data_2015_1.csv')\n",
    "#data2_14_1.to_csv(r'C:\\Users\\Reet\\Downloads\\deep_learning\\Interview\\dataset\\2014\\parking-tickets-2014\\updated\\2014_1.csv',index = False)\n",
    "\n",
    "data2_15_2 = pd.read_csv(r'C:\\Users\\Reet\\Downloads\\deep_learning\\Interview\\dataset\\2015\\Parking_Tags_data_2015_2.csv')\n",
    "#data2_14_2.to_csv(r'C:\\Users\\Reet\\Downloads\\deep_learning\\Interview\\dataset\\2014\\parking-tickets-2014\\updated\\2014_2.csv',index = False) \n",
    "\n",
    "data2_15_3 = pd.read_csv(r'C:\\Users\\Reet\\Downloads\\deep_learning\\Interview\\dataset\\2015\\Parking_Tags_data_2015_3.csv')\n",
    "#data2_14_3.to_csv(r'C:\\Users\\Reet\\Downloads\\deep_learning\\Interview\\dataset\\2014\\parking-tickets-2014\\updated\\2014_3.csv',index = False) \n",
    "\n",
    "\n",
    "df5 = pd.concat([data2_15_1,data2_15_2,data2_15_3], axis=0).sort_values(by=['date_of_infraction']).reset_index(drop=True)\n",
    "df5.to_csv(r'C:\\Users\\Reet\\Downloads\\deep_learning\\Interview\\dataset\\2015\\updated\\2015.csv',index = False) \n",
    "\n",
    "\n",
    "print(\"File Loaded the operation Took\",time.time()-start,\"seconds\")"
   ]
  },
  {
   "cell_type": "code",
   "execution_count": 84,
   "id": "11f5eaf1-d0e4-4ff4-bf1b-f654e0b3102f",
   "metadata": {},
   "outputs": [
    {
     "name": "stdout",
     "output_type": "stream",
     "text": [
      "File Loaded the operation Took 89.1119213104248 seconds\n"
     ]
    }
   ],
   "source": [
    "newdata_15 = pd.read_csv(r'C:\\Users\\Reet\\Downloads\\deep_learning\\Interview\\dataset\\2015\\updated\\2015.csv')\n",
    "print(\"File Loaded the operation Took\",time.time()-start,\"seconds\")"
   ]
  },
  {
   "cell_type": "code",
   "execution_count": null,
   "id": "e1703fce-e6c5-4c33-b66e-3d5034657b0d",
   "metadata": {},
   "outputs": [],
   "source": []
  },
  {
   "cell_type": "code",
   "execution_count": 87,
   "id": "98268a59-2e3d-4de1-81ee-60c28f137900",
   "metadata": {},
   "outputs": [
    {
     "name": "stdout",
     "output_type": "stream",
     "text": [
      "File Loaded the operation Took 12.122827291488647 seconds\n"
     ]
    }
   ],
   "source": [
    "## readin file for 16\n",
    "\n",
    "start = time.time()\n",
    "data2_16_1 = pd.read_csv(r'C:\\Users\\Reet\\Downloads\\deep_learning\\Interview\\dataset\\2016\\parking-tickets-2016\\Parking_Tags_data_2016_1.csv')\n",
    "#data2_14_1.to_csv(r'C:\\Users\\Reet\\Downloads\\deep_learning\\Interview\\dataset\\2014\\parking-tickets-2014\\updated\\2014_1.csv',index = False)\n",
    "\n",
    "data2_16_2 = pd.read_csv(r'C:\\Users\\Reet\\Downloads\\deep_learning\\Interview\\dataset\\2016\\parking-tickets-2016\\Parking_Tags_data_2016_2.csv')\n",
    "#data2_14_2.to_csv(r'C:\\Users\\Reet\\Downloads\\deep_learning\\Interview\\dataset\\2014\\parking-tickets-2014\\updated\\2014_2.csv',index = False) \n",
    "\n",
    "data2_16_3 = pd.read_csv(r'C:\\Users\\Reet\\Downloads\\deep_learning\\Interview\\dataset\\2016\\parking-tickets-2016\\Parking_Tags_data_2016_3.csv')\n",
    "#data2_14_3.to_csv(r'C:\\Users\\Reet\\Downloads\\deep_learning\\Interview\\dataset\\2014\\parking-tickets-2014\\updated\\2014_3.csv',index = False) \n",
    "\n",
    "\n",
    "data2_16_4 = pd.read_csv(r'C:\\Users\\Reet\\Downloads\\deep_learning\\Interview\\dataset\\2016\\parking-tickets-2016\\Parking_Tags_data_2016_4.csv')\n",
    "#data2_14_4.to_csv(r'C:\\Users\\Reet\\Downloads\\deep_learning\\Interview\\dataset\\2014\\parking-tickets-2014\\updated\\2014_4.csv',index = False) \n",
    "\n",
    "\n",
    "df6 = pd.concat([data2_16_1,data2_16_2,data2_16_3,data2_16_4], axis=0).sort_values(by=['date_of_infraction']).reset_index(drop=True)\n",
    "df6.to_csv(r'C:\\Users\\Reet\\Downloads\\deep_learning\\Interview\\dataset\\2016\\parking-tickets-2016\\updated\\2016.csv',index = False) \n",
    "\n",
    "\n",
    "print(\"File Loaded the operation Took\",time.time()-start,\"seconds\")"
   ]
  },
  {
   "cell_type": "code",
   "execution_count": 89,
   "id": "48ebbb5d-747e-46fe-9f8e-8f4b8d1744ac",
   "metadata": {},
   "outputs": [
    {
     "name": "stdout",
     "output_type": "stream",
     "text": [
      "File Loaded the operation Took 103.69568753242493 seconds\n"
     ]
    }
   ],
   "source": [
    "newdata_16 = pd.read_csv(r'C:\\Users\\Reet\\Downloads\\deep_learning\\Interview\\dataset\\2016\\parking-tickets-2016\\updated\\2016.csv')\n",
    "print(\"File Loaded the operation Took\",time.time()-start,\"seconds\")"
   ]
  },
  {
   "cell_type": "code",
   "execution_count": null,
   "id": "8b4c1434-791b-4055-a65f-6e90d24d28a6",
   "metadata": {},
   "outputs": [],
   "source": []
  },
  {
   "cell_type": "code",
   "execution_count": 94,
   "id": "03649c5f-3d62-4152-8e86-84a1ff885940",
   "metadata": {},
   "outputs": [
    {
     "name": "stdout",
     "output_type": "stream",
     "text": [
      "File Loaded the operation Took 15.123729228973389 seconds\n"
     ]
    }
   ],
   "source": [
    "##reading for file 17\n",
    "\n",
    "start = time.time()\n",
    "data2_17_1 = pd.read_csv(r'C:\\Users\\Reet\\Downloads\\deep_learning\\Interview\\dataset\\2017\\Parking_Tags_data_2017_1.csv')\n",
    "#data2_14_1.to_csv(r'C:\\Users\\Reet\\Downloads\\deep_learning\\Interview\\dataset\\2014\\parking-tickets-2014\\updated\\2014_1.csv',index = False)\n",
    "\n",
    "data2_17_2 = pd.read_csv(r'C:\\Users\\Reet\\Downloads\\deep_learning\\Interview\\dataset\\2017\\Parking_Tags_data_2017_2.csv')\n",
    "#data2_14_2.to_csv(r'C:\\Users\\Reet\\Downloads\\deep_learning\\Interview\\dataset\\2014\\parking-tickets-2014\\updated\\2014_2.csv',index = False) \n",
    "\n",
    "data2_17_3 = pd.read_csv(r'C:\\Users\\Reet\\Downloads\\deep_learning\\Interview\\dataset\\2017\\Parking_Tags_data_2017_3.csv')\n",
    "#data2_14_3.to_csv(r'C:\\Users\\Reet\\Downloads\\deep_learning\\Interview\\dataset\\2014\\parking-tickets-2014\\updated\\2014_3.csv',index = False) \n",
    "\n",
    "\n",
    "df6 = pd.concat([data2_17_1,data2_17_2,data2_17_3], axis=0).sort_values(by=['date_of_infraction']).reset_index(drop=True)\n",
    "df6.to_csv(r'C:\\Users\\Reet\\Downloads\\deep_learning\\Interview\\dataset\\2017\\updated\\2017.csv',index = False) \n",
    "\n",
    "\n",
    "print(\"File Loaded the operation Took\",time.time()-start,\"seconds\") "
   ]
  },
  {
   "cell_type": "code",
   "execution_count": 95,
   "id": "2fc108e6-168f-4c18-8a31-9eaa7b20aff2",
   "metadata": {},
   "outputs": [
    {
     "name": "stdout",
     "output_type": "stream",
     "text": [
      "File Loaded the operation Took 18.811885118484497 seconds\n"
     ]
    }
   ],
   "source": [
    "newdata_17 = pd.read_csv(r'C:\\Users\\Reet\\Downloads\\deep_learning\\Interview\\dataset\\2017\\updated\\2017.csv')\n",
    "print(\"File Loaded the operation Took\",time.time()-start,\"seconds\")"
   ]
  },
  {
   "cell_type": "code",
   "execution_count": null,
   "id": "f039ae75-3f83-445f-a64d-a59e1f3e1428",
   "metadata": {},
   "outputs": [],
   "source": []
  },
  {
   "cell_type": "code",
   "execution_count": 96,
   "id": "d42dcd02-0845-4836-8011-36b799c4d8cb",
   "metadata": {},
   "outputs": [
    {
     "name": "stdout",
     "output_type": "stream",
     "text": [
      "File Loaded the operation Took 12.220306634902954 seconds\n"
     ]
    }
   ],
   "source": [
    "## Reading File for 18\n",
    "\n",
    "start = time.time()\n",
    "data2_18_1 = pd.read_csv(r'C:\\Users\\Reet\\Downloads\\deep_learning\\Interview\\dataset\\2018\\Parking_Tags_data_2018_1.csv')\n",
    "#data2_14_1.to_csv(r'C:\\Users\\Reet\\Downloads\\deep_learning\\Interview\\dataset\\2014\\parking-tickets-2014\\updated\\2014_1.csv',index = False)\n",
    "\n",
    "data2_18_2 = pd.read_csv(r'C:\\Users\\Reet\\Downloads\\deep_learning\\Interview\\dataset\\2018\\Parking_Tags_data_2018_2.csv')\n",
    "#data2_14_2.to_csv(r'C:\\Users\\Reet\\Downloads\\deep_learning\\Interview\\dataset\\2014\\parking-tickets-2014\\updated\\2014_2.csv',index = False) \n",
    "\n",
    "data2_18_3 = pd.read_csv(r'C:\\Users\\Reet\\Downloads\\deep_learning\\Interview\\dataset\\2018\\Parking_Tags_data_2018_3.csv')\n",
    "#data2_14_3.to_csv(r'C:\\Users\\Reet\\Downloads\\deep_learning\\Interview\\dataset\\2014\\parking-tickets-2014\\updated\\2014_3.csv',index = False) \n",
    "\n",
    "\n",
    "df8 = pd.concat([data2_18_1,data2_18_2,data2_18_3], axis=0).sort_values(by=['date_of_infraction']).reset_index(drop=True)\n",
    "df8.to_csv(r'C:\\Users\\Reet\\Downloads\\deep_learning\\Interview\\dataset\\2018\\updated\\2018.csv',index = False) \n",
    "\n",
    "\n",
    "print(\"File Loaded the operation Took\",time.time()-start,\"seconds\") "
   ]
  },
  {
   "cell_type": "code",
   "execution_count": 97,
   "id": "687210bd-1397-4584-ae62-90012fae5df3",
   "metadata": {},
   "outputs": [
    {
     "name": "stdout",
     "output_type": "stream",
     "text": [
      "File Loaded the operation Took 22.60620903968811 seconds\n"
     ]
    }
   ],
   "source": [
    "newdata_18 = pd.read_csv(r'C:\\Users\\Reet\\Downloads\\deep_learning\\Interview\\dataset\\2018\\updated\\2018.csv')\n",
    "print(\"File Loaded the operation Took\",time.time()-start,\"seconds\")"
   ]
  },
  {
   "cell_type": "code",
   "execution_count": null,
   "id": "18186f07-077b-4f9d-bf12-b6510e357b61",
   "metadata": {},
   "outputs": [],
   "source": []
  },
  {
   "cell_type": "code",
   "execution_count": 99,
   "id": "79c02d6b-398f-4ef2-ac05-1095b71bb694",
   "metadata": {},
   "outputs": [
    {
     "name": "stdout",
     "output_type": "stream",
     "text": [
      "File Loaded the operation Took 10.641000986099243 seconds\n"
     ]
    }
   ],
   "source": [
    "## Reading Data For 2019\n",
    "\n",
    "## Reading File for 18\n",
    "\n",
    "start = time.time()\n",
    "data2_19_0 = pd.read_csv(r'C:\\Users\\Reet\\Downloads\\deep_learning\\Interview\\dataset\\2019\\Parking_Tags_Data_2019.000.csv')\n",
    "#data2_14_1.to_csv(r'C:\\Users\\Reet\\Downloads\\deep_learning\\Interview\\dataset\\2014\\parking-tickets-2014\\updated\\2014_1.csv',index = False)\n",
    "\n",
    "data2_19_1 = pd.read_csv(r'C:\\Users\\Reet\\Downloads\\deep_learning\\Interview\\dataset\\2019\\Parking_Tags_Data_2019.001.csv')\n",
    "#data2_14_2.to_csv(r'C:\\Users\\Reet\\Downloads\\deep_learning\\Interview\\dataset\\2014\\parking-tickets-2014\\updated\\2014_2.csv',index = False) \n",
    "\n",
    "data2_19_2 = pd.read_csv(r'C:\\Users\\Reet\\Downloads\\deep_learning\\Interview\\dataset\\2019\\Parking_Tags_Data_2019.002.csv')\n",
    "#data2_14_3.to_csv(r'C:\\Users\\Reet\\Downloads\\deep_learning\\Interview\\dataset\\2014\\parking-tickets-2014\\updated\\2014_3.csv',index = False) \n",
    "\n",
    "data2_19_3 = pd.read_csv(r'C:\\Users\\Reet\\Downloads\\deep_learning\\Interview\\dataset\\2019\\Parking_Tags_Data_2019.003.csv')\n",
    "data2_19_4 = pd.read_csv(r'C:\\Users\\Reet\\Downloads\\deep_learning\\Interview\\dataset\\2019\\Parking_Tags_Data_2019.004.csv')\n",
    "data2_19_5 = pd.read_csv(r'C:\\Users\\Reet\\Downloads\\deep_learning\\Interview\\dataset\\2019\\Parking_Tags_Data_2019.005.csv')\n",
    "data2_19_6 = pd.read_csv(r'C:\\Users\\Reet\\Downloads\\deep_learning\\Interview\\dataset\\2019\\Parking_Tags_Data_2019.006.csv')\n",
    "data2_19_7 = pd.read_csv(r'C:\\Users\\Reet\\Downloads\\deep_learning\\Interview\\dataset\\2019\\Parking_Tags_Data_2019.007.csv')\n",
    "data2_19_8 = pd.read_csv(r'C:\\Users\\Reet\\Downloads\\deep_learning\\Interview\\dataset\\2019\\Parking_Tags_Data_2019.008.csv')\n",
    "\n",
    "\n",
    "df9 = pd.concat([data2_19_0,data2_19_1,data2_19_2,data2_19_3,data2_19_4,data2_19_5,data2_19_6,data2_19_7,data2_19_8], axis=0).sort_values(by=['date_of_infraction']).reset_index(drop=True)\n",
    "df9.to_csv(r'C:\\Users\\Reet\\Downloads\\deep_learning\\Interview\\dataset\\2019\\updated\\2019.csv',index = False) \n",
    "\n",
    "\n",
    "print(\"File Loaded the operation Took\",time.time()-start,\"seconds\") "
   ]
  },
  {
   "cell_type": "code",
   "execution_count": 100,
   "id": "7c31fb84-ac88-482c-a97c-3a189defb1b8",
   "metadata": {},
   "outputs": [
    {
     "name": "stdout",
     "output_type": "stream",
     "text": [
      "File Loaded the operation Took 42.538973331451416 seconds\n"
     ]
    }
   ],
   "source": [
    "newdata_19 = pd.read_csv(r'C:\\Users\\Reet\\Downloads\\deep_learning\\Interview\\dataset\\2019\\updated\\2019.csv')\n",
    "print(\"File Loaded the operation Took\",time.time()-start,\"seconds\")"
   ]
  },
  {
   "cell_type": "code",
   "execution_count": null,
   "id": "b793aa26-5c32-4dee-96e2-fa8d9a36d807",
   "metadata": {},
   "outputs": [],
   "source": []
  },
  {
   "cell_type": "code",
   "execution_count": 104,
   "id": "68356d3b-2599-4126-bf9b-8c20c47acb06",
   "metadata": {},
   "outputs": [
    {
     "name": "stdout",
     "output_type": "stream",
     "text": [
      "File Loaded the operation Took 7.141885995864868 seconds\n"
     ]
    }
   ],
   "source": [
    "### Reading file 20\n",
    "\n",
    "## Reading Data For 2019\n",
    "\n",
    "## Reading File for 18\n",
    "\n",
    "start = time.time()\n",
    "data2_20_0 = pd.read_csv(r'C:\\Users\\Reet\\Downloads\\deep_learning\\Interview\\dataset\\2020\\Parking_Tags_Data_2020.000.csv')\n",
    "#data2_14_1.to_csv(r'C:\\Users\\Reet\\Downloads\\deep_learning\\Interview\\dataset\\2014\\parking-tickets-2014\\updated\\2014_1.csv',index = False)\n",
    "\n",
    "data2_20_1 = pd.read_csv(r'C:\\Users\\Reet\\Downloads\\deep_learning\\Interview\\dataset\\2020\\Parking_Tags_Data_2020.001.csv')\n",
    "#data2_14_2.to_csv(r'C:\\Users\\Reet\\Downloads\\deep_learning\\Interview\\dataset\\2014\\parking-tickets-2014\\updated\\2014_2.csv',index = False) \n",
    "\n",
    "data2_20_2 = pd.read_csv(r'C:\\Users\\Reet\\Downloads\\deep_learning\\Interview\\dataset\\2020\\Parking_Tags_Data_2020.002.csv')\n",
    "#data2_14_3.to_csv(r'C:\\Users\\Reet\\Downloads\\deep_learning\\Interview\\dataset\\2014\\parking-tickets-2014\\updated\\2014_3.csv',index = False) \n",
    "\n",
    "data2_20_3 = pd.read_csv(r'C:\\Users\\Reet\\Downloads\\deep_learning\\Interview\\dataset\\2020\\Parking_Tags_Data_2020.003.csv')\n",
    "data2_20_4 = pd.read_csv(r'C:\\Users\\Reet\\Downloads\\deep_learning\\Interview\\dataset\\2020\\Parking_Tags_Data_2020.004.csv')\n",
    "data2_20_5 = pd.read_csv(r'C:\\Users\\Reet\\Downloads\\deep_learning\\Interview\\dataset\\2020\\Parking_Tags_Data_2020.005.csv')\n",
    "\n",
    "\n",
    "df10 = pd.concat([data2_20_0,data2_20_1,data2_20_2,data2_20_3,data2_20_4,data2_20_5], axis=0).sort_values(by=['date_of_infraction']).reset_index(drop=True)\n",
    "df10.to_csv(r'C:\\Users\\Reet\\Downloads\\deep_learning\\Interview\\dataset\\2020\\updated\\2020.csv',index = False) \n",
    "\n",
    "print(\"File Loaded the operation Took\",time.time()-start,\"seconds\") "
   ]
  },
  {
   "cell_type": "code",
   "execution_count": 105,
   "id": "d1958183-a6d8-4ccc-81c4-e1b6a064f01e",
   "metadata": {},
   "outputs": [
    {
     "name": "stdout",
     "output_type": "stream",
     "text": [
      "File Loaded the operation Took 34.3176748752594 seconds\n"
     ]
    }
   ],
   "source": [
    "newdata_20 = pd.read_csv(r'C:\\Users\\Reet\\Downloads\\deep_learning\\Interview\\dataset\\2020\\updated\\2020.csv')\n",
    "print(\"File Loaded the operation Took\",time.time()-start,\"seconds\")"
   ]
  },
  {
   "cell_type": "code",
   "execution_count": null,
   "id": "8eb863ce-aa08-496e-99f1-95f6c8900325",
   "metadata": {},
   "outputs": [],
   "source": []
  },
  {
   "cell_type": "code",
   "execution_count": null,
   "id": "6f7b122a-c164-45ca-bf66-311a5de0b1d9",
   "metadata": {},
   "outputs": [],
   "source": [
    "#### Read data 21"
   ]
  },
  {
   "cell_type": "code",
   "execution_count": 109,
   "id": "ce188f0a-b2f7-482a-891f-9b63720f2c7f",
   "metadata": {},
   "outputs": [
    {
     "name": "stdout",
     "output_type": "stream",
     "text": [
      "File Loaded the operation Took 723.4761700630188 seconds\n"
     ]
    },
    {
     "name": "stderr",
     "output_type": "stream",
     "text": [
      "Columns (1,2,4,5) have mixed types. Specify dtype option on import or set low_memory=False.\n"
     ]
    }
   ],
   "source": [
    "newdata_21 = pd.read_csv(r'C:\\Users\\Reet\\Downloads\\deep_learning\\Interview\\dataset\\2021\\Parking_Tags_Data_2021.csv')\n",
    "print(\"File Loaded the operation Took\",time.time()-start,\"seconds\")"
   ]
  },
  {
   "cell_type": "code",
   "execution_count": null,
   "id": "3a54bbfc-2289-42d3-a832-adc017afa71d",
   "metadata": {},
   "outputs": [],
   "source": []
  },
  {
   "cell_type": "code",
   "execution_count": 107,
   "id": "3266bfd4-840f-4b32-b436-7b433dcaecfd",
   "metadata": {},
   "outputs": [
    {
     "name": "stdout",
     "output_type": "stream",
     "text": [
      "File Loaded the operation Took 266.29986929893494 seconds\n"
     ]
    }
   ],
   "source": [
    "### Read data 22\n",
    "\n",
    "## Read the data and Combine \n",
    "\n",
    "df0 = pd.read_csv(r'C:\\Users\\Reet\\Downloads\\deep_learning\\Interview\\Parking_Tags_Data_2022.000.csv')\n",
    "df1 = pd.read_csv(r'C:\\Users\\Reet\\Downloads\\deep_learning\\Interview\\Parking_Tags_Data_2022.001.csv')\n",
    "df2 = pd.read_csv(r'C:\\Users\\Reet\\Downloads\\deep_learning\\Interview\\Parking_Tags_Data_2022.002.csv')\n",
    "df3 = pd.read_csv(r'C:\\Users\\Reet\\Downloads\\deep_learning\\Interview\\Parking_Tags_Data_2022.003.csv')\n",
    "df4 = pd.read_csv(r'C:\\Users\\Reet\\Downloads\\deep_learning\\Interview\\Parking_Tags_Data_2022.004.csv')\n",
    "df5 = pd.read_csv(r'C:\\Users\\Reet\\Downloads\\deep_learning\\Interview\\Parking_Tags_Data_2022.005.csv')\n",
    "df6 = pd.read_csv(r'C:\\Users\\Reet\\Downloads\\deep_learning\\Interview\\Parking_Tags_Data_2022.006.csv')\n",
    "df7 = pd.read_csv(r'C:\\Users\\Reet\\Downloads\\deep_learning\\Interview\\Parking_Tags_Data_2022.007.csv')\n",
    "\n",
    "newdata_22 = pd.concat([df0,df1,df2,df3,df4,df5,df6,df7], axis=0).sort_values(by=['date_of_infraction']).reset_index(drop=True)\n",
    "print(\"File Loaded the operation Took\",time.time()-start,\"seconds\") "
   ]
  },
  {
   "cell_type": "code",
   "execution_count": null,
   "id": "c400efa9-c12f-4ec6-bcee-52b64ab40718",
   "metadata": {},
   "outputs": [],
   "source": []
  },
  {
   "cell_type": "code",
   "execution_count": 113,
   "id": "02fea9a2-0540-41ca-b269-3306b5247aaf",
   "metadata": {},
   "outputs": [
    {
     "ename": "MemoryError",
     "evalue": "Unable to allocate 804. MiB for an array with shape (5, 21063691) and data type object",
     "output_type": "error",
     "traceback": [
      "\u001b[1;31m---------------------------------------------------------------------------\u001b[0m",
      "\u001b[1;31mMemoryError\u001b[0m                               Traceback (most recent call last)",
      "\u001b[1;32m~\\AppData\\Local\\Temp\\ipykernel_32512\\3009904658.py\u001b[0m in \u001b[0;36m<cell line: 6>\u001b[1;34m()\u001b[0m\n\u001b[0;32m      4\u001b[0m \u001b[1;33m\u001b[0m\u001b[0m\n\u001b[0;32m      5\u001b[0m \u001b[1;33m\u001b[0m\u001b[0m\n\u001b[1;32m----> 6\u001b[1;33m df = pd.concat([newdata_11,\n\u001b[0m\u001b[0;32m      7\u001b[0m                 \u001b[0mnewdata_12\u001b[0m\u001b[1;33m,\u001b[0m\u001b[1;33m\u001b[0m\u001b[1;33m\u001b[0m\u001b[0m\n\u001b[0;32m      8\u001b[0m                 \u001b[0mnewdata_13\u001b[0m\u001b[1;33m,\u001b[0m\u001b[1;33m\u001b[0m\u001b[1;33m\u001b[0m\u001b[0m\n",
      "\u001b[1;32m~\\AppData\\Roaming\\Python\\Python39\\site-packages\\pandas\\util\\_decorators.py\u001b[0m in \u001b[0;36mwrapper\u001b[1;34m(*args, **kwargs)\u001b[0m\n\u001b[0;32m    329\u001b[0m                     \u001b[0mstacklevel\u001b[0m\u001b[1;33m=\u001b[0m\u001b[0mfind_stack_level\u001b[0m\u001b[1;33m(\u001b[0m\u001b[1;33m)\u001b[0m\u001b[1;33m,\u001b[0m\u001b[1;33m\u001b[0m\u001b[1;33m\u001b[0m\u001b[0m\n\u001b[0;32m    330\u001b[0m                 )\n\u001b[1;32m--> 331\u001b[1;33m             \u001b[1;32mreturn\u001b[0m \u001b[0mfunc\u001b[0m\u001b[1;33m(\u001b[0m\u001b[1;33m*\u001b[0m\u001b[0margs\u001b[0m\u001b[1;33m,\u001b[0m \u001b[1;33m**\u001b[0m\u001b[0mkwargs\u001b[0m\u001b[1;33m)\u001b[0m\u001b[1;33m\u001b[0m\u001b[1;33m\u001b[0m\u001b[0m\n\u001b[0m\u001b[0;32m    332\u001b[0m \u001b[1;33m\u001b[0m\u001b[0m\n\u001b[0;32m    333\u001b[0m         \u001b[1;31m# error: \"Callable[[VarArg(Any), KwArg(Any)], Any]\" has no\u001b[0m\u001b[1;33m\u001b[0m\u001b[1;33m\u001b[0m\u001b[0m\n",
      "\u001b[1;32m~\\AppData\\Roaming\\Python\\Python39\\site-packages\\pandas\\core\\reshape\\concat.py\u001b[0m in \u001b[0;36mconcat\u001b[1;34m(objs, axis, join, ignore_index, keys, levels, names, verify_integrity, sort, copy)\u001b[0m\n\u001b[0;32m    379\u001b[0m     )\n\u001b[0;32m    380\u001b[0m \u001b[1;33m\u001b[0m\u001b[0m\n\u001b[1;32m--> 381\u001b[1;33m     \u001b[1;32mreturn\u001b[0m \u001b[0mop\u001b[0m\u001b[1;33m.\u001b[0m\u001b[0mget_result\u001b[0m\u001b[1;33m(\u001b[0m\u001b[1;33m)\u001b[0m\u001b[1;33m\u001b[0m\u001b[1;33m\u001b[0m\u001b[0m\n\u001b[0m\u001b[0;32m    382\u001b[0m \u001b[1;33m\u001b[0m\u001b[0m\n\u001b[0;32m    383\u001b[0m \u001b[1;33m\u001b[0m\u001b[0m\n",
      "\u001b[1;32m~\\AppData\\Roaming\\Python\\Python39\\site-packages\\pandas\\core\\reshape\\concat.py\u001b[0m in \u001b[0;36mget_result\u001b[1;34m(self)\u001b[0m\n\u001b[0;32m    614\u001b[0m                 \u001b[0mmgrs_indexers\u001b[0m\u001b[1;33m.\u001b[0m\u001b[0mappend\u001b[0m\u001b[1;33m(\u001b[0m\u001b[1;33m(\u001b[0m\u001b[0mobj\u001b[0m\u001b[1;33m.\u001b[0m\u001b[0m_mgr\u001b[0m\u001b[1;33m,\u001b[0m \u001b[0mindexers\u001b[0m\u001b[1;33m)\u001b[0m\u001b[1;33m)\u001b[0m\u001b[1;33m\u001b[0m\u001b[1;33m\u001b[0m\u001b[0m\n\u001b[0;32m    615\u001b[0m \u001b[1;33m\u001b[0m\u001b[0m\n\u001b[1;32m--> 616\u001b[1;33m             new_data = concatenate_managers(\n\u001b[0m\u001b[0;32m    617\u001b[0m                 \u001b[0mmgrs_indexers\u001b[0m\u001b[1;33m,\u001b[0m \u001b[0mself\u001b[0m\u001b[1;33m.\u001b[0m\u001b[0mnew_axes\u001b[0m\u001b[1;33m,\u001b[0m \u001b[0mconcat_axis\u001b[0m\u001b[1;33m=\u001b[0m\u001b[0mself\u001b[0m\u001b[1;33m.\u001b[0m\u001b[0mbm_axis\u001b[0m\u001b[1;33m,\u001b[0m \u001b[0mcopy\u001b[0m\u001b[1;33m=\u001b[0m\u001b[0mself\u001b[0m\u001b[1;33m.\u001b[0m\u001b[0mcopy\u001b[0m\u001b[1;33m\u001b[0m\u001b[1;33m\u001b[0m\u001b[0m\n\u001b[0;32m    618\u001b[0m             )\n",
      "\u001b[1;32m~\\AppData\\Roaming\\Python\\Python39\\site-packages\\pandas\\core\\internals\\concat.py\u001b[0m in \u001b[0;36mconcatenate_managers\u001b[1;34m(mgrs_indexers, axes, concat_axis, copy)\u001b[0m\n\u001b[0;32m    231\u001b[0m             \u001b[0mfastpath\u001b[0m \u001b[1;33m=\u001b[0m \u001b[0mblk\u001b[0m\u001b[1;33m.\u001b[0m\u001b[0mvalues\u001b[0m\u001b[1;33m.\u001b[0m\u001b[0mdtype\u001b[0m \u001b[1;33m==\u001b[0m \u001b[0mvalues\u001b[0m\u001b[1;33m.\u001b[0m\u001b[0mdtype\u001b[0m\u001b[1;33m\u001b[0m\u001b[1;33m\u001b[0m\u001b[0m\n\u001b[0;32m    232\u001b[0m         \u001b[1;32melse\u001b[0m\u001b[1;33m:\u001b[0m\u001b[1;33m\u001b[0m\u001b[1;33m\u001b[0m\u001b[0m\n\u001b[1;32m--> 233\u001b[1;33m             \u001b[0mvalues\u001b[0m \u001b[1;33m=\u001b[0m \u001b[0m_concatenate_join_units\u001b[0m\u001b[1;33m(\u001b[0m\u001b[0mjoin_units\u001b[0m\u001b[1;33m,\u001b[0m \u001b[0mconcat_axis\u001b[0m\u001b[1;33m,\u001b[0m \u001b[0mcopy\u001b[0m\u001b[1;33m=\u001b[0m\u001b[0mcopy\u001b[0m\u001b[1;33m)\u001b[0m\u001b[1;33m\u001b[0m\u001b[1;33m\u001b[0m\u001b[0m\n\u001b[0m\u001b[0;32m    234\u001b[0m             \u001b[0mfastpath\u001b[0m \u001b[1;33m=\u001b[0m \u001b[1;32mFalse\u001b[0m\u001b[1;33m\u001b[0m\u001b[1;33m\u001b[0m\u001b[0m\n\u001b[0;32m    235\u001b[0m \u001b[1;33m\u001b[0m\u001b[0m\n",
      "\u001b[1;32m~\\AppData\\Roaming\\Python\\Python39\\site-packages\\pandas\\core\\internals\\concat.py\u001b[0m in \u001b[0;36m_concatenate_join_units\u001b[1;34m(join_units, concat_axis, copy)\u001b[0m\n\u001b[0;32m    575\u001b[0m \u001b[1;33m\u001b[0m\u001b[0m\n\u001b[0;32m    576\u001b[0m     \u001b[1;32melse\u001b[0m\u001b[1;33m:\u001b[0m\u001b[1;33m\u001b[0m\u001b[1;33m\u001b[0m\u001b[0m\n\u001b[1;32m--> 577\u001b[1;33m         \u001b[0mconcat_values\u001b[0m \u001b[1;33m=\u001b[0m \u001b[0mconcat_compat\u001b[0m\u001b[1;33m(\u001b[0m\u001b[0mto_concat\u001b[0m\u001b[1;33m,\u001b[0m \u001b[0maxis\u001b[0m\u001b[1;33m=\u001b[0m\u001b[0mconcat_axis\u001b[0m\u001b[1;33m)\u001b[0m\u001b[1;33m\u001b[0m\u001b[1;33m\u001b[0m\u001b[0m\n\u001b[0m\u001b[0;32m    578\u001b[0m \u001b[1;33m\u001b[0m\u001b[0m\n\u001b[0;32m    579\u001b[0m     \u001b[1;32mreturn\u001b[0m \u001b[0mconcat_values\u001b[0m\u001b[1;33m\u001b[0m\u001b[1;33m\u001b[0m\u001b[0m\n",
      "\u001b[1;32m~\\AppData\\Roaming\\Python\\Python39\\site-packages\\pandas\\core\\dtypes\\concat.py\u001b[0m in \u001b[0;36mconcat_compat\u001b[1;34m(to_concat, axis, ea_compat_axis)\u001b[0m\n\u001b[0;32m    149\u001b[0m                 \u001b[0mkinds\u001b[0m \u001b[1;33m=\u001b[0m \u001b[1;33m{\u001b[0m\u001b[1;34m\"o\"\u001b[0m\u001b[1;33m}\u001b[0m\u001b[1;33m\u001b[0m\u001b[1;33m\u001b[0m\u001b[0m\n\u001b[0;32m    150\u001b[0m \u001b[1;33m\u001b[0m\u001b[0m\n\u001b[1;32m--> 151\u001b[1;33m     \u001b[0mresult\u001b[0m \u001b[1;33m=\u001b[0m \u001b[0mnp\u001b[0m\u001b[1;33m.\u001b[0m\u001b[0mconcatenate\u001b[0m\u001b[1;33m(\u001b[0m\u001b[0mto_concat\u001b[0m\u001b[1;33m,\u001b[0m \u001b[0maxis\u001b[0m\u001b[1;33m=\u001b[0m\u001b[0maxis\u001b[0m\u001b[1;33m)\u001b[0m\u001b[1;33m\u001b[0m\u001b[1;33m\u001b[0m\u001b[0m\n\u001b[0m\u001b[0;32m    152\u001b[0m     \u001b[1;32mif\u001b[0m \u001b[1;34m\"b\"\u001b[0m \u001b[1;32min\u001b[0m \u001b[0mkinds\u001b[0m \u001b[1;32mand\u001b[0m \u001b[0mresult\u001b[0m\u001b[1;33m.\u001b[0m\u001b[0mdtype\u001b[0m\u001b[1;33m.\u001b[0m\u001b[0mkind\u001b[0m \u001b[1;32min\u001b[0m \u001b[1;33m[\u001b[0m\u001b[1;34m\"i\"\u001b[0m\u001b[1;33m,\u001b[0m \u001b[1;34m\"u\"\u001b[0m\u001b[1;33m,\u001b[0m \u001b[1;34m\"f\"\u001b[0m\u001b[1;33m]\u001b[0m\u001b[1;33m:\u001b[0m\u001b[1;33m\u001b[0m\u001b[1;33m\u001b[0m\u001b[0m\n\u001b[0;32m    153\u001b[0m         \u001b[1;31m# GH#39817\u001b[0m\u001b[1;33m\u001b[0m\u001b[1;33m\u001b[0m\u001b[0m\n",
      "\u001b[1;32m~\\Anaconda_new\\envs\\newenv\\lib\\site-packages\\numpy\\core\\overrides.py\u001b[0m in \u001b[0;36mconcatenate\u001b[1;34m(*args, **kwargs)\u001b[0m\n",
      "\u001b[1;31mMemoryError\u001b[0m: Unable to allocate 804. MiB for an array with shape (5, 21063691) and data type object"
     ]
    }
   ],
   "source": [
    "## Concatinate to main DataFrame\n",
    "\n",
    "## Taking Data From 2011 as 2010 data is damaged\n",
    "\n",
    "\n",
    "df = pd.concat([newdata_11,\n",
    "                newdata_12,\n",
    "                newdata_13,\n",
    "                newdata_14,\n",
    "                newdata_15,\n",
    "                newdata_16,\n",
    "                newdata_17,\n",
    "                newdata_18,\n",
    "                newdata_19,\n",
    "                newdata_20,\n",
    "                newdata_21,\n",
    "                newdata_22], axis=0).sort_values(by=['date_of_infraction']).reset_index(drop=True)"
   ]
  },
  {
   "cell_type": "markdown",
   "id": "39417689-9307-4e5e-9f78-92efe4d62d27",
   "metadata": {},
   "source": [
    "## Even though I am able to taking data in Chunks as input and could make the preprocessing faster, the poor memory allocation \n",
    "## for jupyter notebook make the kernel dying based on the above."
   ]
  },
  {
   "cell_type": "code",
   "execution_count": null,
   "id": "cc6af253-a478-4bc4-8083-49e22a7fe185",
   "metadata": {},
   "outputs": [],
   "source": []
  }
 ],
 "metadata": {
  "kernelspec": {
   "display_name": "Python 3 (ipykernel)",
   "language": "python",
   "name": "python3"
  },
  "language_info": {
   "codemirror_mode": {
    "name": "ipython",
    "version": 3
   },
   "file_extension": ".py",
   "mimetype": "text/x-python",
   "name": "python",
   "nbconvert_exporter": "python",
   "pygments_lexer": "ipython3",
   "version": "3.9.18"
  }
 },
 "nbformat": 4,
 "nbformat_minor": 5
}
